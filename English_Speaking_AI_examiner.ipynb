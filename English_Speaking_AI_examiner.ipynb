{
  "cells": [
    {
      "cell_type": "markdown",
      "metadata": {
        "colab_type": "text",
        "id": "view-in-github"
      },
      "source": [
        "<a href=\"https://colab.research.google.com/github/arol9204/English_Speaking_AI_Examiner/blob/main/English_Speaking_AI_examiner.ipynb\" target=\"_parent\"><img src=\"https://colab.research.google.com/assets/colab-badge.svg\" alt=\"Open In Colab\"/></a>"
      ]
    },
    {
      "cell_type": "markdown",
      "metadata": {
        "id": "dIB1FJGALWVg"
      },
      "source": [
        "# LangChain and LLM dolly"
      ]
    },
    {
      "cell_type": "code",
      "execution_count": 1,
      "metadata": {
        "id": "rZjaGV72_wNt"
      },
      "outputs": [
        {
          "name": "stdout",
          "output_type": "stream",
          "text": [
            "Collecting langchain\n",
            "  Downloading langchain-0.0.297-py3-none-any.whl (1.7 MB)\n",
            "                                              0.0/1.7 MB ? eta -:--:--\n",
            "                                              0.0/1.7 MB ? eta -:--:--\n",
            "     --                                       0.1/1.7 MB 1.3 MB/s eta 0:00:02\n",
            "     ------------                             0.5/1.7 MB 4.1 MB/s eta 0:00:01\n",
            "     ----------------------                   1.0/1.7 MB 6.2 MB/s eta 0:00:01\n",
            "     ----------------------------------       1.5/1.7 MB 7.3 MB/s eta 0:00:01\n",
            "     ---------------------------------------- 1.7/1.7 MB 7.3 MB/s eta 0:00:00\n",
            "Requirement already satisfied: PyYAML>=5.3 in c:\\users\\alero\\.conda\\envs\\ml\\lib\\site-packages (from langchain) (6.0)\n",
            "Collecting SQLAlchemy<3,>=1.4 (from langchain)\n",
            "  Downloading SQLAlchemy-2.0.21-cp39-cp39-win_amd64.whl (2.0 MB)\n",
            "                                              0.0/2.0 MB ? eta -:--:--\n",
            "     ---------                                0.5/2.0 MB 10.5 MB/s eta 0:00:01\n",
            "     ---------------------                    1.1/2.0 MB 14.2 MB/s eta 0:00:01\n",
            "     ---------------------------------        1.7/2.0 MB 12.0 MB/s eta 0:00:01\n",
            "     ---------------------------------------- 2.0/2.0 MB 11.9 MB/s eta 0:00:00\n",
            "Requirement already satisfied: aiohttp<4.0.0,>=3.8.3 in c:\\users\\alero\\.conda\\envs\\ml\\lib\\site-packages (from langchain) (3.8.4)\n",
            "Requirement already satisfied: async-timeout<5.0.0,>=4.0.0 in c:\\users\\alero\\.conda\\envs\\ml\\lib\\site-packages (from langchain) (4.0.2)\n",
            "Collecting dataclasses-json<0.7,>=0.5.7 (from langchain)\n",
            "  Downloading dataclasses_json-0.6.0-py3-none-any.whl (27 kB)\n",
            "Collecting langsmith<0.1.0,>=0.0.38 (from langchain)\n",
            "  Downloading langsmith-0.0.39-py3-none-any.whl (38 kB)\n",
            "Requirement already satisfied: numexpr<3.0.0,>=2.8.4 in c:\\users\\alero\\.conda\\envs\\ml\\lib\\site-packages (from langchain) (2.8.4)\n",
            "Requirement already satisfied: numpy<2,>=1 in c:\\users\\alero\\.conda\\envs\\ml\\lib\\site-packages (from langchain) (1.22.4)\n",
            "Collecting pydantic<3,>=1 (from langchain)\n",
            "  Downloading pydantic-2.3.0-py3-none-any.whl (374 kB)\n",
            "                                              0.0/374.5 kB ? eta -:--:--\n",
            "     -------------------------------------- 374.5/374.5 kB 7.8 MB/s eta 0:00:00\n",
            "Requirement already satisfied: requests<3,>=2 in c:\\users\\alero\\.conda\\envs\\ml\\lib\\site-packages (from langchain) (2.28.1)\n",
            "Requirement already satisfied: tenacity<9.0.0,>=8.1.0 in c:\\users\\alero\\.conda\\envs\\ml\\lib\\site-packages (from langchain) (8.1.0)\n",
            "Requirement already satisfied: attrs>=17.3.0 in c:\\users\\alero\\.conda\\envs\\ml\\lib\\site-packages (from aiohttp<4.0.0,>=3.8.3->langchain) (23.1.0)\n",
            "Requirement already satisfied: charset-normalizer<4.0,>=2.0 in c:\\users\\alero\\.conda\\envs\\ml\\lib\\site-packages (from aiohttp<4.0.0,>=3.8.3->langchain) (2.0.4)\n",
            "Requirement already satisfied: multidict<7.0,>=4.5 in c:\\users\\alero\\.conda\\envs\\ml\\lib\\site-packages (from aiohttp<4.0.0,>=3.8.3->langchain) (6.0.4)\n",
            "Requirement already satisfied: yarl<2.0,>=1.0 in c:\\users\\alero\\.conda\\envs\\ml\\lib\\site-packages (from aiohttp<4.0.0,>=3.8.3->langchain) (1.9.2)\n",
            "Requirement already satisfied: frozenlist>=1.1.1 in c:\\users\\alero\\.conda\\envs\\ml\\lib\\site-packages (from aiohttp<4.0.0,>=3.8.3->langchain) (1.4.0)\n",
            "Requirement already satisfied: aiosignal>=1.1.2 in c:\\users\\alero\\.conda\\envs\\ml\\lib\\site-packages (from aiohttp<4.0.0,>=3.8.3->langchain) (1.3.1)\n",
            "Collecting marshmallow<4.0.0,>=3.18.0 (from dataclasses-json<0.7,>=0.5.7->langchain)\n",
            "  Downloading marshmallow-3.20.1-py3-none-any.whl (49 kB)\n",
            "                                              0.0/49.4 kB ? eta -:--:--\n",
            "     ---------------------------------------- 49.4/49.4 kB ? eta 0:00:00\n",
            "Collecting typing-inspect<1,>=0.4.0 (from dataclasses-json<0.7,>=0.5.7->langchain)\n",
            "  Using cached typing_inspect-0.9.0-py3-none-any.whl (8.8 kB)\n",
            "Collecting annotated-types>=0.4.0 (from pydantic<3,>=1->langchain)\n",
            "  Downloading annotated_types-0.5.0-py3-none-any.whl (11 kB)\n",
            "Collecting pydantic-core==2.6.3 (from pydantic<3,>=1->langchain)\n",
            "  Downloading pydantic_core-2.6.3-cp39-none-win_amd64.whl (1.7 MB)\n",
            "                                              0.0/1.7 MB ? eta -:--:--\n",
            "     -------------                            0.6/1.7 MB 18.8 MB/s eta 0:00:01\n",
            "     --------------------------               1.2/1.7 MB 18.8 MB/s eta 0:00:01\n",
            "     ---------------------------------------  1.7/1.7 MB 13.8 MB/s eta 0:00:01\n",
            "     ---------------------------------------- 1.7/1.7 MB 12.4 MB/s eta 0:00:00\n",
            "Requirement already satisfied: typing-extensions>=4.6.1 in c:\\users\\alero\\.conda\\envs\\ml\\lib\\site-packages (from pydantic<3,>=1->langchain) (4.6.3)\n",
            "Requirement already satisfied: idna<4,>=2.5 in c:\\users\\alero\\.conda\\envs\\ml\\lib\\site-packages (from requests<3,>=2->langchain) (2.10)\n",
            "Requirement already satisfied: urllib3<1.27,>=1.21.1 in c:\\users\\alero\\.conda\\envs\\ml\\lib\\site-packages (from requests<3,>=2->langchain) (1.26.15)\n",
            "Requirement already satisfied: certifi>=2017.4.17 in c:\\users\\alero\\.conda\\envs\\ml\\lib\\site-packages (from requests<3,>=2->langchain) (2022.12.7)\n",
            "Collecting greenlet!=0.4.17 (from SQLAlchemy<3,>=1.4->langchain)\n",
            "  Using cached greenlet-2.0.2-cp39-cp39-win_amd64.whl (192 kB)\n",
            "Requirement already satisfied: packaging>=17.0 in c:\\users\\alero\\.conda\\envs\\ml\\lib\\site-packages (from marshmallow<4.0.0,>=3.18.0->dataclasses-json<0.7,>=0.5.7->langchain) (23.1)\n",
            "Requirement already satisfied: mypy-extensions>=0.3.0 in c:\\users\\alero\\.conda\\envs\\ml\\lib\\site-packages (from typing-inspect<1,>=0.4.0->dataclasses-json<0.7,>=0.5.7->langchain) (1.0.0)\n",
            "Installing collected packages: typing-inspect, pydantic-core, marshmallow, greenlet, annotated-types, SQLAlchemy, pydantic, dataclasses-json, langsmith, langchain\n",
            "Successfully installed SQLAlchemy-2.0.21 annotated-types-0.5.0 dataclasses-json-0.6.0 greenlet-2.0.2 langchain-0.0.297 langsmith-0.0.39 marshmallow-3.20.1 pydantic-2.3.0 pydantic-core-2.6.3 typing-inspect-0.9.0\n"
          ]
        },
        {
          "name": "stderr",
          "output_type": "stream",
          "text": [
            "\n",
            "[notice] A new release of pip is available: 23.1.2 -> 23.2.1\n",
            "[notice] To update, run: python.exe -m pip install --upgrade pip\n"
          ]
        }
      ],
      "source": [
        "!pip install --upgrade langchain"
      ]
    },
    {
      "cell_type": "code",
      "execution_count": 2,
      "metadata": {
        "id": "Mbt8ui74AEeS"
      },
      "outputs": [
        {
          "name": "stdout",
          "output_type": "stream",
          "text": [
            "^C\n",
            "Note: you may need to restart the kernel to use updated packages.\n"
          ]
        },
        {
          "name": "stdout",
          "output_type": "stream",
          "text": [
            "Collecting transformers[torch]\n",
            "  Downloading transformers-4.33.2-py3-none-any.whl (7.6 MB)\n",
            "                                              0.0/7.6 MB ? eta -:--:--\n",
            "                                              0.0/7.6 MB ? eta -:--:--\n",
            "                                              0.1/7.6 MB 762.6 kB/s eta 0:00:10\n",
            "     --                                       0.5/7.6 MB 3.1 MB/s eta 0:00:03\n",
            "     ----                                     0.9/7.6 MB 4.6 MB/s eta 0:00:02\n",
            "     -------                                  1.4/7.6 MB 5.9 MB/s eta 0:00:02\n",
            "     ----------                               2.0/7.6 MB 7.5 MB/s eta 0:00:01\n",
            "     -------------                            2.6/7.6 MB 8.0 MB/s eta 0:00:01\n",
            "     ----------------                         3.2/7.6 MB 8.5 MB/s eta 0:00:01\n",
            "     -------------------                      3.8/7.6 MB 9.0 MB/s eta 0:00:01\n",
            "     ----------------------                   4.4/7.6 MB 9.0 MB/s eta 0:00:01\n",
            "     -------------------------                4.8/7.6 MB 9.3 MB/s eta 0:00:01\n",
            "     ----------------------------             5.4/7.6 MB 9.8 MB/s eta 0:00:01\n",
            "     -------------------------------          5.9/7.6 MB 9.5 MB/s eta 0:00:01\n",
            "     ----------------------------------       6.6/7.6 MB 9.7 MB/s eta 0:00:01\n",
            "     -------------------------------------    7.1/7.6 MB 10.1 MB/s eta 0:00:01\n",
            "     ---------------------------------------  7.6/7.6 MB 10.2 MB/s eta 0:00:01\n",
            "     ---------------------------------------- 7.6/7.6 MB 10.0 MB/s eta 0:00:00\n",
            "Requirement already satisfied: filelock in c:\\users\\alero\\.conda\\envs\\ml\\lib\\site-packages (from transformers[torch]) (3.12.0)\n",
            "Collecting huggingface-hub<1.0,>=0.15.1 (from transformers[torch])\n",
            "  Downloading huggingface_hub-0.17.2-py3-none-any.whl (294 kB)\n",
            "                                              0.0/294.9 kB ? eta -:--:--\n",
            "     -------------------------------------- 294.9/294.9 kB 6.1 MB/s eta 0:00:00\n",
            "Requirement already satisfied: numpy>=1.17 in c:\\users\\alero\\.conda\\envs\\ml\\lib\\site-packages (from transformers[torch]) (1.22.4)\n",
            "Requirement already satisfied: packaging>=20.0 in c:\\users\\alero\\.conda\\envs\\ml\\lib\\site-packages (from transformers[torch]) (23.1)\n",
            "Requirement already satisfied: pyyaml>=5.1 in c:\\users\\alero\\.conda\\envs\\ml\\lib\\site-packages (from transformers[torch]) (6.0)\n",
            "Requirement already satisfied: regex!=2019.12.17 in c:\\users\\alero\\.conda\\envs\\ml\\lib\\site-packages (from transformers[torch]) (2023.3.23)\n",
            "Requirement already satisfied: requests in c:\\users\\alero\\.conda\\envs\\ml\\lib\\site-packages (from transformers[torch]) (2.28.1)\n",
            "Collecting tokenizers!=0.11.3,<0.14,>=0.11.1 (from transformers[torch])\n",
            "  Using cached tokenizers-0.13.3-cp39-cp39-win_amd64.whl (3.5 MB)\n",
            "Collecting safetensors>=0.3.1 (from transformers[torch])\n",
            "  Downloading safetensors-0.3.3-cp39-cp39-win_amd64.whl (266 kB)\n",
            "                                              0.0/266.4 kB ? eta -:--:--\n",
            "     ------------------------------------- 266.4/266.4 kB 16.0 MB/s eta 0:00:00\n",
            "Requirement already satisfied: tqdm>=4.27 in c:\\users\\alero\\.conda\\envs\\ml\\lib\\site-packages (from transformers[torch]) (4.64.1)\n",
            "Requirement already satisfied: torch!=1.12.0,>=1.10 in c:\\users\\alero\\.conda\\envs\\ml\\lib\\site-packages (from transformers[torch]) (2.0.1)\n",
            "Collecting accelerate>=0.20.3 (from transformers[torch])\n",
            "  Downloading accelerate-0.23.0-py3-none-any.whl (258 kB)\n",
            "                                              0.0/258.1 kB ? eta -:--:--\n",
            "     ------------------------------------- 258.1/258.1 kB 15.5 MB/s eta 0:00:00\n",
            "Requirement already satisfied: psutil in c:\\users\\alero\\.conda\\envs\\ml\\lib\\site-packages (from accelerate>=0.20.3->transformers[torch]) (5.9.5)\n",
            "Requirement already satisfied: fsspec in c:\\users\\alero\\.conda\\envs\\ml\\lib\\site-packages (from huggingface-hub<1.0,>=0.15.1->transformers[torch]) (2023.4.0)\n",
            "Requirement already satisfied: typing-extensions>=3.7.4.3 in c:\\users\\alero\\.conda\\envs\\ml\\lib\\site-packages (from huggingface-hub<1.0,>=0.15.1->transformers[torch]) (4.6.3)\n",
            "Requirement already satisfied: sympy in c:\\users\\alero\\.conda\\envs\\ml\\lib\\site-packages (from torch!=1.12.0,>=1.10->transformers[torch]) (1.12)\n",
            "Requirement already satisfied: networkx in c:\\users\\alero\\.conda\\envs\\ml\\lib\\site-packages (from torch!=1.12.0,>=1.10->transformers[torch]) (2.8.4)\n",
            "Requirement already satisfied: jinja2 in c:\\users\\alero\\.conda\\envs\\ml\\lib\\site-packages (from torch!=1.12.0,>=1.10->transformers[torch]) (3.1.2)\n",
            "Requirement already satisfied: colorama in c:\\users\\alero\\.conda\\envs\\ml\\lib\\site-packages (from tqdm>=4.27->transformers[torch]) (0.4.6)\n",
            "Requirement already satisfied: charset-normalizer<3,>=2 in c:\\users\\alero\\.conda\\envs\\ml\\lib\\site-packages (from requests->transformers[torch]) (2.0.4)\n",
            "Requirement already satisfied: idna<4,>=2.5 in c:\\users\\alero\\.conda\\envs\\ml\\lib\\site-packages (from requests->transformers[torch]) (2.10)\n",
            "Requirement already satisfied: urllib3<1.27,>=1.21.1 in c:\\users\\alero\\.conda\\envs\\ml\\lib\\site-packages (from requests->transformers[torch]) (1.26.15)\n",
            "Requirement already satisfied: certifi>=2017.4.17 in c:\\users\\alero\\.conda\\envs\\ml\\lib\\site-packages (from requests->transformers[torch]) (2022.12.7)\n",
            "Requirement already satisfied: MarkupSafe>=2.0 in c:\\users\\alero\\.conda\\envs\\ml\\lib\\site-packages (from jinja2->torch!=1.12.0,>=1.10->transformers[torch]) (2.1.3)\n",
            "Requirement already satisfied: mpmath>=0.19 in c:\\users\\alero\\.conda\\envs\\ml\\lib\\site-packages (from sympy->torch!=1.12.0,>=1.10->transformers[torch]) (1.3.0)\n",
            "Installing collected packages: tokenizers, safetensors, huggingface-hub, transformers, accelerate\n",
            "Successfully installed accelerate-0.23.0 huggingface-hub-0.17.2 safetensors-0.3.3 tokenizers-0.13.3 transformers-4.33.2\n"
          ]
        },
        {
          "name": "stderr",
          "output_type": "stream",
          "text": [
            "\n",
            "[notice] A new release of pip is available: 23.1.2 -> 23.2.1\n",
            "[notice] To update, run: python.exe -m pip install --upgrade pip\n"
          ]
        }
      ],
      "source": [
        "%pip install \"transformers[torch]\""
      ]
    },
    {
      "cell_type": "code",
      "execution_count": null,
      "metadata": {
        "id": "IzeaknCwAIuR"
      },
      "outputs": [],
      "source": [
        "import torch\n",
        "from transformers import pipeline\n",
        "\n",
        "\n",
        "# databricks/dolly-v2-3b\n",
        "# databricks/dolly-v2-7b\n",
        "# databricks/dolly-v2-2-8b\n",
        "# databricks/dolly-v2-12b\n",
        "\n",
        "# OpenAssistant/falcon-7b-sft-mix-2000\n",
        "# OpenAssistant/falcon-40b-sft-mix-1226\n",
        "\n",
        "\n",
        "generate_text = pipeline(model=\"databricks/dolly-v2-3b\",\n",
        "                         torch_dtype=torch.bfloat16,\n",
        "                         trust_remote_code=True,\n",
        "                         device_map=\"auto\",\n",
        "                         return_full_text=True)"
      ]
    },
    {
      "cell_type": "code",
      "execution_count": null,
      "metadata": {
        "id": "zknNSN22AM99"
      },
      "outputs": [],
      "source": [
        "from langchain import PromptTemplate, LLMChain\n",
        "from langchain.llms import HuggingFacePipeline"
      ]
    },
    {
      "cell_type": "markdown",
      "metadata": {
        "id": "sYKqSgkuAsSi"
      },
      "source": [
        "# Installing Whisper for speaking-to-text trasncript"
      ]
    },
    {
      "cell_type": "code",
      "execution_count": null,
      "metadata": {
        "id": "u9N9yfQZA0Wi"
      },
      "outputs": [],
      "source": [
        "# Install the latest commit from Github whisper repository\n",
        "! pip install git+https://github.com/openai/whisper.git -q"
      ]
    },
    {
      "cell_type": "code",
      "execution_count": null,
      "metadata": {
        "id": "vn8AnWuMA0Q3"
      },
      "outputs": [],
      "source": [
        "# Installing command-line tool ffmpeg\n",
        "!sudo apt update && sudo apt install ffmpeg"
      ]
    },
    {
      "cell_type": "markdown",
      "metadata": {
        "id": "TbaqFY6ffcg2"
      },
      "source": [
        "# Install the Web UI Toolkit"
      ]
    },
    {
      "cell_type": "code",
      "execution_count": null,
      "metadata": {
        "id": "Gh0-aXM2_xd4"
      },
      "outputs": [],
      "source": [
        "! pip install gradio -q"
      ]
    },
    {
      "cell_type": "markdown",
      "metadata": {
        "id": "BTJ36HVnkMjE"
      },
      "source": [
        "# The App"
      ]
    },
    {
      "cell_type": "code",
      "execution_count": null,
      "metadata": {
        "id": "WrWXVn8-CyHp"
      },
      "outputs": [],
      "source": [
        "import whisper\n",
        "import gradio as gr\n",
        "import time"
      ]
    },
    {
      "cell_type": "code",
      "execution_count": null,
      "metadata": {
        "id": "eSwrq56kOidq"
      },
      "outputs": [],
      "source": [
        "hf_pipeline = HuggingFacePipeline(pipeline=generate_text)\n",
        "\n",
        "English_review_template = \"\"\"You are a professional examiner who assesses the English language proficiency of candidates taking an English test.\n",
        "You asked this question: {question} \\\n",
        "The answer was: {text}.\n",
        "\n",
        "Evaluate the answer based on the following criteria:\\\n",
        "\n",
        "- Coherence: Assess how well the candidate's answer is connected to the question.\n",
        "- Word Choice: Assess if the candidate uses appropriate words and phrases to communicate.\n",
        "- Vocabulary Range: Assess if the candidate uses a variety of vocabulary.\n",
        "- Sentence Structure: Assess the candidate's ability to use a variety of sentence structures appropriately.\n",
        "- Grammatical Accuracy: Explain how well did the candidate formed grammatically correct sentences?\n",
        "- Grammatical Errors: List and explain each grammar error in the candidate's answer.\n",
        "\"\"\"\n",
        "\n",
        "prompt_template = PromptTemplate.from_template(English_review_template)\n",
        "\n",
        "llm_chain = LLMChain(llm=hf_pipeline, prompt=prompt_template)"
      ]
    },
    {
      "cell_type": "code",
      "execution_count": null,
      "metadata": {
        "id": "TlbWowbE_yJ4"
      },
      "outputs": [],
      "source": [
        "def English_feedback(Question, audio):\n",
        "  model = whisper.load_model(\"base\")\n",
        "  text = model.transcribe(audio)\n",
        "  response = llm_chain.run({'text': text, 'question': Question})\n",
        "  return text[\"text\"], response"
      ]
    },
    {
      "cell_type": "code",
      "execution_count": null,
      "metadata": {
        "id": "9h5X63sW7jSw"
      },
      "outputs": [],
      "source": [
        "demo = gr.Interface(\n",
        "    title = 'English Speaking AI-examiner ',\n",
        "    fn=English_feedback,\n",
        "    inputs=[\"text\", gr.inputs.Audio(source=\"microphone\", type=\"filepath\")],\n",
        "    outputs=[ \"textbox\", \"textbox\"])\n",
        "\n",
        "demo.launch(share=True)"
      ]
    },
    {
      "cell_type": "code",
      "execution_count": null,
      "metadata": {
        "id": "4RHxuKWbCzz3"
      },
      "outputs": [],
      "source": []
    }
  ],
  "metadata": {
    "accelerator": "GPU",
    "colab": {
      "authorship_tag": "ABX9TyPSUxWrxL5+f4EIZOpzBwhZ",
      "gpuType": "T4",
      "include_colab_link": true,
      "provenance": []
    },
    "kernelspec": {
      "display_name": "Python 3",
      "name": "python3"
    },
    "language_info": {
      "codemirror_mode": {
        "name": "ipython",
        "version": 3
      },
      "file_extension": ".py",
      "mimetype": "text/x-python",
      "name": "python",
      "nbconvert_exporter": "python",
      "pygments_lexer": "ipython3",
      "version": "3.9.16"
    }
  },
  "nbformat": 4,
  "nbformat_minor": 0
}
